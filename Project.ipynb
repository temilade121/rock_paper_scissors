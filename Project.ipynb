{
 "cells": [
  {
   "cell_type": "code",
   "execution_count": 3,
   "id": "fb55c4ed",
   "metadata": {},
   "outputs": [],
   "source": [
    "import tkinter as tk\n",
    "import random\n",
    "\n",
    "def play_game():\n",
    "    user_choice = entry.get().lower()\n",
    "    computer_choice = random.choice(['rock', 'paper', 'scissors'])\n",
    "\n",
    "    result = determine_winner(user_choice, computer_choice)\n",
    "\n",
    "    result_label.config(text=f\"Computer chose {computer_choice}. {result}\")\n",
    "\n",
    "def determine_winner(player, computer):\n",
    "    if player == computer:\n",
    "        return \"It's a tie!\"\n",
    "    elif (\n",
    "        (player == 'rock' and computer == 'scissors') or\n",
    "        (player == 'paper' and computer == 'rock') or\n",
    "        (player == 'scissors' and computer == 'paper')\n",
    "    ):\n",
    "        return \"You win!\"\n",
    "    else:\n",
    "        return \"You lose!\"\n",
    "\n",
    "def reset_game():\n",
    "    entry.delete(0, tk.END)\n",
    "    result_label.config(text=\"\")\n",
    "\n",
    "def exit_game():\n",
    "    root.destroy()\n",
    "\n",
    "# GUI Setup\n",
    "root = tk.Tk()\n",
    "root.title(\"Rock Paper Scissors Game\")\n",
    "root.config(bg = 'pink')\n",
    "# Labels\n",
    "label = tk.Label(root, text=\"Enter your choice (rock, paper, or scissors):\")\n",
    "label.pack(pady=10)\n",
    "\n",
    "result_label = tk.Label(root, text=\"\")\n",
    "result_label.pack(pady=10)\n",
    "\n",
    "# Entry\n",
    "entry = tk.Entry(root)\n",
    "entry.pack(pady=10)\n",
    "\n",
    "# Buttons\n",
    "play_button = tk.Button(root, text=\"Play\", command=play_game)\n",
    "play_button.pack(side=tk.LEFT, padx=5)\n",
    "\n",
    "reset_button = tk.Button(root, text=\"Reset\", command=reset_game)\n",
    "reset_button.pack(side=tk.LEFT, padx=5)\n",
    "\n",
    "exit_button = tk.Button(root, text=\"Exit\", command=exit_game)\n",
    "exit_button.pack(side=tk.LEFT, padx=5)\n",
    "\n",
    "# Run the application\n",
    "root.mainloop()\n"
   ]
  },
  {
   "cell_type": "code",
   "execution_count": null,
   "id": "83550587",
   "metadata": {},
   "outputs": [],
   "source": []
  }
 ],
 "metadata": {
  "kernelspec": {
   "display_name": "Python 3 (ipykernel)",
   "language": "python",
   "name": "python3"
  },
  "language_info": {
   "codemirror_mode": {
    "name": "ipython",
    "version": 3
   },
   "file_extension": ".py",
   "mimetype": "text/x-python",
   "name": "python",
   "nbconvert_exporter": "python",
   "pygments_lexer": "ipython3",
   "version": "3.11.4"
  }
 },
 "nbformat": 4,
 "nbformat_minor": 5
}
